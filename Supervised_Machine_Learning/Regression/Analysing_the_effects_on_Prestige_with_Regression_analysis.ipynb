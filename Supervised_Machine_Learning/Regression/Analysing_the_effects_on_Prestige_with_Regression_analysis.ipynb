{
  "nbformat": 4,
  "nbformat_minor": 0,
  "metadata": {
    "kernelspec": {
      "display_name": "Python 3",
      "language": "python",
      "name": "python3"
    },
    "language_info": {
      "codemirror_mode": {
        "name": "ipython",
        "version": 3
      },
      "file_extension": ".py",
      "mimetype": "text/x-python",
      "name": "python",
      "nbconvert_exporter": "python",
      "pygments_lexer": "ipython3",
      "version": "3.6.4"
    },
    "colab": {
      "name": "Analysing the effects on Prestige with Regression analysis.ipynb",
      "provenance": []
    }
  },
  "cells": [
    {
      "cell_type": "markdown",
      "metadata": {
        "id": "rSZdc-s9qfyv"
      },
      "source": [
        "# Analysing the effects on Prestige with Regression analysis"
      ]
    },
    {
      "cell_type": "markdown",
      "metadata": {
        "id": "wfYmKR9cqfyx"
      },
      "source": [
        "#Import libaries and datasets"
      ]
    },
    {
      "cell_type": "code",
      "metadata": {
        "id": "yHSAtqsHqfyy"
      },
      "source": [
        "import pandas as pd \n",
        "import numpy as np\n",
        "import matplotlib.pyplot as plt\n",
        "plt.style.use('ggplot')\n",
        "\n",
        "import statsmodels.api as sm\n",
        "p = sm.datasets.get_rdataset(\"Prestige\",\"carData\").data"
      ],
      "execution_count": null,
      "outputs": []
    },
    {
      "cell_type": "code",
      "metadata": {
        "id": "wJ0tOZ_Yqfy9",
        "colab": {
          "base_uri": "https://localhost:8080/",
          "height": 34
        },
        "outputId": "76e109a5-9139-4740-c0c8-774be3edeeb6"
      },
      "source": [
        "p.columns"
      ],
      "execution_count": null,
      "outputs": [
        {
          "output_type": "execute_result",
          "data": {
            "text/plain": [
              "Index(['education', 'income', 'women', 'prestige', 'census', 'type'], dtype='object')"
            ]
          },
          "metadata": {
            "tags": []
          },
          "execution_count": 5
        }
      ]
    },
    {
      "cell_type": "code",
      "metadata": {
        "id": "Ht5aJiHBqfzC",
        "colab": {
          "base_uri": "https://localhost:8080/",
          "height": 34
        },
        "outputId": "7a1c21e0-ffda-419f-86b6-a3f9411b62d7"
      },
      "source": [
        "p.shape"
      ],
      "execution_count": null,
      "outputs": [
        {
          "output_type": "execute_result",
          "data": {
            "text/plain": [
              "(102, 6)"
            ]
          },
          "metadata": {
            "tags": []
          },
          "execution_count": 6
        }
      ]
    },
    {
      "cell_type": "code",
      "metadata": {
        "id": "0TQcRT2FqfzH",
        "colab": {
          "base_uri": "https://localhost:8080/",
          "height": 136
        },
        "outputId": "9d2b8e75-581e-465b-91aa-15d2f94b9457"
      },
      "source": [
        "p.dtypes"
      ],
      "execution_count": null,
      "outputs": [
        {
          "output_type": "execute_result",
          "data": {
            "text/plain": [
              "education    float64\n",
              "income         int64\n",
              "women        float64\n",
              "prestige     float64\n",
              "census         int64\n",
              "type          object\n",
              "dtype: object"
            ]
          },
          "metadata": {
            "tags": []
          },
          "execution_count": 7
        }
      ]
    },
    {
      "cell_type": "code",
      "metadata": {
        "id": "BBxIwvdqqfzU",
        "colab": {
          "base_uri": "https://localhost:8080/",
          "height": 170
        },
        "outputId": "fbe6b475-64d6-42c8-da5d-a1edfee42773"
      },
      "source": [
        "p['prestige'].describe()"
      ],
      "execution_count": null,
      "outputs": [
        {
          "output_type": "execute_result",
          "data": {
            "text/plain": [
              "count    102.000000\n",
              "mean      46.833333\n",
              "std       17.204486\n",
              "min       14.800000\n",
              "25%       35.225000\n",
              "50%       43.600000\n",
              "75%       59.275000\n",
              "max       87.200000\n",
              "Name: prestige, dtype: float64"
            ]
          },
          "metadata": {
            "tags": []
          },
          "execution_count": 12
        }
      ]
    },
    {
      "cell_type": "code",
      "metadata": {
        "id": "CQT_woLlqfzh",
        "colab": {
          "base_uri": "https://localhost:8080/",
          "height": 282
        },
        "outputId": "78595e62-f42f-4664-e638-b53120753c3a"
      },
      "source": [
        "p['prestige'].hist()"
      ],
      "execution_count": null,
      "outputs": [
        {
          "output_type": "execute_result",
          "data": {
            "text/plain": [
              "<matplotlib.axes._subplots.AxesSubplot at 0x7f56b6185dd8>"
            ]
          },
          "metadata": {
            "tags": []
          },
          "execution_count": 19
        },
        {
          "output_type": "display_data",
          "data": {
            "image/png": "[encoded data removed]",
            "text/plain": [
              "<Figure size 432x288 with 1 Axes>"
            ]
          },
          "metadata": {
            "tags": [],
            "needs_background": "light"
          }
        }
      ]
    },
    {
      "cell_type": "code",
      "metadata": {
        "id": "yFmZeEK8qfzn",
        "colab": {
          "base_uri": "https://localhost:8080/",
          "height": 292
        },
        "outputId": "f7fef837-24b1-4547-dc2a-e7fca874b382"
      },
      "source": [
        "p['type'].value_counts().plot(kind='bar')\n"
      ],
      "execution_count": null,
      "outputs": [
        {
          "output_type": "execute_result",
          "data": {
            "text/plain": [
              "<matplotlib.axes._subplots.AxesSubplot at 0x7f56b618f518>"
            ]
          },
          "metadata": {
            "tags": []
          },
          "execution_count": 22
        },
        {
          "output_type": "display_data",
          "data": {
            "image/png": "[encoded data removed]",
            "text/plain": [
              "<Figure size 432x288 with 1 Axes>"
            ]
          },
          "metadata": {
            "tags": [],
            "needs_background": "light"
          }
        }
      ]
    },
    {
      "cell_type": "code",
      "metadata": {
        "id": "5hwDMidYqfzs",
        "colab": {
          "base_uri": "https://localhost:8080/",
          "height": 204
        },
        "outputId": "8eb3cff3-103d-4d3f-bd0f-d3d5761d180f"
      },
      "source": [
        "p.corr()"
      ],
      "execution_count": null,
      "outputs": [
        {
          "output_type": "execute_result",
          "data": {
            "text/html": [
              "<div>\n",
              "<style scoped>\n",
              "    .dataframe tbody tr th:only-of-type {\n",
              "        vertical-align: middle;\n",
              "    }\n",
              "\n",
              "    .dataframe tbody tr th {\n",
              "        vertical-align: top;\n",
              "    }\n",
              "\n",
              "    .dataframe thead th {\n",
              "        text-align: right;\n",
              "    }\n",
              "</style>\n",
              "<table border=\"1\" class=\"dataframe\">\n",
              "  <thead>\n",
              "    <tr style=\"text-align: right;\">\n",
              "      <th></th>\n",
              "      <th>education</th>\n",
              "      <th>income</th>\n",
              "      <th>women</th>\n",
              "      <th>prestige</th>\n",
              "      <th>census</th>\n",
              "    </tr>\n",
              "  </thead>\n",
              "  <tbody>\n",
              "    <tr>\n",
              "      <th>education</th>\n",
              "      <td>1.000000</td>\n",
              "      <td>0.577580</td>\n",
              "      <td>0.061853</td>\n",
              "      <td>0.850177</td>\n",
              "      <td>-0.823088</td>\n",
              "    </tr>\n",
              "    <tr>\n",
              "      <th>income</th>\n",
              "      <td>0.577580</td>\n",
              "      <td>1.000000</td>\n",
              "      <td>-0.441059</td>\n",
              "      <td>0.714906</td>\n",
              "      <td>-0.361002</td>\n",
              "    </tr>\n",
              "    <tr>\n",
              "      <th>women</th>\n",
              "      <td>0.061853</td>\n",
              "      <td>-0.441059</td>\n",
              "      <td>1.000000</td>\n",
              "      <td>-0.118334</td>\n",
              "      <td>-0.227003</td>\n",
              "    </tr>\n",
              "    <tr>\n",
              "      <th>prestige</th>\n",
              "      <td>0.850177</td>\n",
              "      <td>0.714906</td>\n",
              "      <td>-0.118334</td>\n",
              "      <td>1.000000</td>\n",
              "      <td>-0.634510</td>\n",
              "    </tr>\n",
              "    <tr>\n",
              "      <th>census</th>\n",
              "      <td>-0.823088</td>\n",
              "      <td>-0.361002</td>\n",
              "      <td>-0.227003</td>\n",
              "      <td>-0.634510</td>\n",
              "      <td>1.000000</td>\n",
              "    </tr>\n",
              "  </tbody>\n",
              "</table>\n",
              "</div>"
            ],
            "text/plain": [
              "           education    income     women  prestige    census\n",
              "education   1.000000  0.577580  0.061853  0.850177 -0.823088\n",
              "income      0.577580  1.000000 -0.441059  0.714906 -0.361002\n",
              "women       0.061853 -0.441059  1.000000 -0.118334 -0.227003\n",
              "prestige    0.850177  0.714906 -0.118334  1.000000 -0.634510\n",
              "census     -0.823088 -0.361002 -0.227003 -0.634510  1.000000"
            ]
          },
          "metadata": {
            "tags": []
          },
          "execution_count": 23
        }
      ]
    },
    {
      "cell_type": "code",
      "metadata": {
        "id": "ZKOeWA_otllA",
        "colab": {
          "base_uri": "https://localhost:8080/",
          "height": 298
        },
        "outputId": "df009114-c372-4e8a-dca0-f54eb8aca960"
      },
      "source": [
        "p.plot.scatter(x='women',y='prestige')"
      ],
      "execution_count": null,
      "outputs": [
        {
          "output_type": "execute_result",
          "data": {
            "text/plain": [
              "<matplotlib.axes._subplots.AxesSubplot at 0x7f56b590e438>"
            ]
          },
          "metadata": {
            "tags": []
          },
          "execution_count": 25
        },
        {
          "output_type": "display_data",
          "data": {
            "image/png": "[encoded data removed]",
            "text/plain": [
              "<Figure size 432x288 with 1 Axes>"
            ]
          },
          "metadata": {
            "tags": [],
            "needs_background": "light"
          }
        }
      ]
    },
    {
      "cell_type": "code",
      "metadata": {
        "id": "PUe19m_Oqfz1",
        "colab": {
          "base_uri": "https://localhost:8080/",
          "height": 204
        },
        "outputId": "91c83e94-9838-4326-c244-64ea5f653166"
      },
      "source": [
        "p.corr()"
      ],
      "execution_count": null,
      "outputs": [
        {
          "output_type": "execute_result",
          "data": {
            "text/html": [
              "<div>\n",
              "<style scoped>\n",
              "    .dataframe tbody tr th:only-of-type {\n",
              "        vertical-align: middle;\n",
              "    }\n",
              "\n",
              "    .dataframe tbody tr th {\n",
              "        vertical-align: top;\n",
              "    }\n",
              "\n",
              "    .dataframe thead th {\n",
              "        text-align: right;\n",
              "    }\n",
              "</style>\n",
              "<table border=\"1\" class=\"dataframe\">\n",
              "  <thead>\n",
              "    <tr style=\"text-align: right;\">\n",
              "      <th></th>\n",
              "      <th>education</th>\n",
              "      <th>income</th>\n",
              "      <th>women</th>\n",
              "      <th>prestige</th>\n",
              "      <th>census</th>\n",
              "    </tr>\n",
              "  </thead>\n",
              "  <tbody>\n",
              "    <tr>\n",
              "      <th>education</th>\n",
              "      <td>1.000000</td>\n",
              "      <td>0.577580</td>\n",
              "      <td>0.061853</td>\n",
              "      <td>0.850177</td>\n",
              "      <td>-0.823088</td>\n",
              "    </tr>\n",
              "    <tr>\n",
              "      <th>income</th>\n",
              "      <td>0.577580</td>\n",
              "      <td>1.000000</td>\n",
              "      <td>-0.441059</td>\n",
              "      <td>0.714906</td>\n",
              "      <td>-0.361002</td>\n",
              "    </tr>\n",
              "    <tr>\n",
              "      <th>women</th>\n",
              "      <td>0.061853</td>\n",
              "      <td>-0.441059</td>\n",
              "      <td>1.000000</td>\n",
              "      <td>-0.118334</td>\n",
              "      <td>-0.227003</td>\n",
              "    </tr>\n",
              "    <tr>\n",
              "      <th>prestige</th>\n",
              "      <td>0.850177</td>\n",
              "      <td>0.714906</td>\n",
              "      <td>-0.118334</td>\n",
              "      <td>1.000000</td>\n",
              "      <td>-0.634510</td>\n",
              "    </tr>\n",
              "    <tr>\n",
              "      <th>census</th>\n",
              "      <td>-0.823088</td>\n",
              "      <td>-0.361002</td>\n",
              "      <td>-0.227003</td>\n",
              "      <td>-0.634510</td>\n",
              "      <td>1.000000</td>\n",
              "    </tr>\n",
              "  </tbody>\n",
              "</table>\n",
              "</div>"
            ],
            "text/plain": [
              "           education    income     women  prestige    census\n",
              "education   1.000000  0.577580  0.061853  0.850177 -0.823088\n",
              "income      0.577580  1.000000 -0.441059  0.714906 -0.361002\n",
              "women       0.061853 -0.441059  1.000000 -0.118334 -0.227003\n",
              "prestige    0.850177  0.714906 -0.118334  1.000000 -0.634510\n",
              "census     -0.823088 -0.361002 -0.227003 -0.634510  1.000000"
            ]
          },
          "metadata": {
            "tags": []
          },
          "execution_count": 27
        }
      ]
    },
    {
      "cell_type": "code",
      "metadata": {
        "id": "mdqpybVdqfz6"
      },
      "source": [
        "import seaborn as sns"
      ],
      "execution_count": null,
      "outputs": []
    },
    {
      "cell_type": "code",
      "metadata": {
        "id": "3p9EpMNhuJF4",
        "colab": {
          "base_uri": "https://localhost:8080/",
          "height": 743
        },
        "outputId": "c6cad918-4199-46d3-9cff-919c4ad9cc9f"
      },
      "source": [
        "sns.pairplot(p,vars=['education','income','women','prestige'])"
      ],
      "execution_count": null,
      "outputs": [
        {
          "output_type": "execute_result",
          "data": {
            "text/plain": [
              "<seaborn.axisgrid.PairGrid at 0x7f56b4f280b8>"
            ]
          },
          "metadata": {
            "tags": []
          },
          "execution_count": 30
        },
        {
          "output_type": "display_data",
          "data": {
            "image/png": "[encoded data removed]",
            "text/plain": [
              "<Figure size 720x720 with 20 Axes>"
            ]
          },
          "metadata": {
            "tags": [],
            "needs_background": "light"
          }
        }
      ]
    },
    {
      "cell_type": "markdown",
      "metadata": {
        "id": "EeUn41Jyqf0I"
      },
      "source": [
        "Import ols from statsmodels.formula.api library"
      ]
    },
    {
      "cell_type": "code",
      "metadata": {
        "id": "ULsfz98Dqf0K"
      },
      "source": [
        "from statsmodels.formula.api import ols"
      ],
      "execution_count": null,
      "outputs": []
    },
    {
      "cell_type": "markdown",
      "metadata": {
        "id": "XbWOjy4-qf0W"
      },
      "source": [
        "The ols() function fits a linear regression model to relate the independent variables to the target variable"
      ]
    },
    {
      "cell_type": "code",
      "metadata": {
        "id": "ySi8mn08qf0X"
      },
      "source": [
        "est = ols(formula='prestige ~ education + women + type', data = p)\n",
        "est = est.fit()"
      ],
      "execution_count": null,
      "outputs": []
    },
    {
      "cell_type": "markdown",
      "metadata": {
        "id": "f_dMA9rJqf0b"
      },
      "source": [
        "View the model "
      ]
    },
    {
      "cell_type": "code",
      "metadata": {
        "id": "EyiM_jxrqf0c",
        "colab": {
          "base_uri": "https://localhost:8080/",
          "height": 507
        },
        "outputId": "f6409639-96e2-464b-a665-730ea023d814"
      },
      "source": [
        "est.summary()"
      ],
      "execution_count": null,
      "outputs": [
        {
          "output_type": "execute_result",
          "data": {
            "text/html": [
              "<table class=\"simpletable\">\n",
              "<caption>OLS Regression Results</caption>\n",
              "<tr>\n",
              "  <th>Dep. Variable:</th>        <td>prestige</td>     <th>  R-squared:         </th> <td>   0.807</td>\n",
              "</tr>\n",
              "<tr>\n",
              "  <th>Model:</th>                   <td>OLS</td>       <th>  Adj. R-squared:    </th> <td>   0.798</td>\n",
              "</tr>\n",
              "<tr>\n",
              "  <th>Method:</th>             <td>Least Squares</td>  <th>  F-statistic:       </th> <td>   96.95</td>\n",
              "</tr>\n",
              "<tr>\n",
              "  <th>Date:</th>             <td>Mon, 26 Oct 2020</td> <th>  Prob (F-statistic):</th> <td>2.56e-32</td>\n",
              "</tr>\n",
              "<tr>\n",
              "  <th>Time:</th>                 <td>16:29:09</td>     <th>  Log-Likelihood:    </th> <td> -336.25</td>\n",
              "</tr>\n",
              "<tr>\n",
              "  <th>No. Observations:</th>      <td>    98</td>      <th>  AIC:               </th> <td>   682.5</td>\n",
              "</tr>\n",
              "<tr>\n",
              "  <th>Df Residuals:</th>          <td>    93</td>      <th>  BIC:               </th> <td>   695.4</td>\n",
              "</tr>\n",
              "<tr>\n",
              "  <th>Df Model:</th>              <td>     4</td>      <th>                     </th>     <td> </td>   \n",
              "</tr>\n",
              "<tr>\n",
              "  <th>Covariance Type:</th>      <td>nonrobust</td>    <th>                     </th>     <td> </td>   \n",
              "</tr>\n",
              "</table>\n",
              "<table class=\"simpletable\">\n",
              "<tr>\n",
              "        <td></td>          <th>coef</th>     <th>std err</th>      <th>t</th>      <th>P>|t|</th>  <th>[0.025</th>    <th>0.975]</th>  \n",
              "</tr>\n",
              "<tr>\n",
              "  <th>Intercept</th>    <td>   -0.4399</td> <td>    5.739</td> <td>   -0.077</td> <td> 0.939</td> <td>  -11.836</td> <td>   10.957</td>\n",
              "</tr>\n",
              "<tr>\n",
              "  <th>type[T.prof]</th> <td>    7.3160</td> <td>    4.222</td> <td>    1.733</td> <td> 0.086</td> <td>   -1.069</td> <td>   15.701</td>\n",
              "</tr>\n",
              "<tr>\n",
              "  <th>type[T.wc]</th>   <td>   -3.1307</td> <td>    2.869</td> <td>   -1.091</td> <td> 0.278</td> <td>   -8.828</td> <td>    2.567</td>\n",
              "</tr>\n",
              "<tr>\n",
              "  <th>education</th>    <td>    4.4339</td> <td>    0.663</td> <td>    6.685</td> <td> 0.000</td> <td>    3.117</td> <td>    5.751</td>\n",
              "</tr>\n",
              "<tr>\n",
              "  <th>women</th>        <td>   -0.0578</td> <td>    0.028</td> <td>   -2.088</td> <td> 0.039</td> <td>   -0.113</td> <td>   -0.003</td>\n",
              "</tr>\n",
              "</table>\n",
              "<table class=\"simpletable\">\n",
              "<tr>\n",
              "  <th>Omnibus:</th>       <td> 1.428</td> <th>  Durbin-Watson:     </th> <td>   1.860</td>\n",
              "</tr>\n",
              "<tr>\n",
              "  <th>Prob(Omnibus):</th> <td> 0.490</td> <th>  Jarque-Bera (JB):  </th> <td>   1.332</td>\n",
              "</tr>\n",
              "<tr>\n",
              "  <th>Skew:</th>          <td>-0.281</td> <th>  Prob(JB):          </th> <td>   0.514</td>\n",
              "</tr>\n",
              "<tr>\n",
              "  <th>Kurtosis:</th>      <td> 2.898</td> <th>  Cond. No.          </th> <td>    399.</td>\n",
              "</tr>\n",
              "</table><br/><br/>Warnings:<br/>[1] Standard Errors assume that the covariance matrix of the errors is correctly specified."
            ],
            "text/plain": [
              "<class 'statsmodels.iolib.summary.Summary'>\n",
              "\"\"\"\n",
              "                            OLS Regression Results                            \n",
              "==============================================================================\n",
              "Dep. Variable:               prestige   R-squared:                       0.807\n",
              "Model:                            OLS   Adj. R-squared:                  0.798\n",
              "Method:                 Least Squares   F-statistic:                     96.95\n",
              "Date:                Mon, 26 Oct 2020   Prob (F-statistic):           2.56e-32\n",
              "Time:                        16:29:09   Log-Likelihood:                -336.25\n",
              "No. Observations:                  98   AIC:                             682.5\n",
              "Df Residuals:                      93   BIC:                             695.4\n",
              "Df Model:                           4                                         \n",
              "Covariance Type:            nonrobust                                         \n",
              "================================================================================\n",
              "                   coef    std err          t      P>|t|      [0.025      0.975]\n",
              "--------------------------------------------------------------------------------\n",
              "Intercept       -0.4399      5.739     -0.077      0.939     -11.836      10.957\n",
              "type[T.prof]     7.3160      4.222      1.733      0.086      -1.069      15.701\n",
              "type[T.wc]      -3.1307      2.869     -1.091      0.278      -8.828       2.567\n",
              "education        4.4339      0.663      6.685      0.000       3.117       5.751\n",
              "women           -0.0578      0.028     -2.088      0.039      -0.113      -0.003\n",
              "==============================================================================\n",
              "Omnibus:                        1.428   Durbin-Watson:                   1.860\n",
              "Prob(Omnibus):                  0.490   Jarque-Bera (JB):                1.332\n",
              "Skew:                          -0.281   Prob(JB):                        0.514\n",
              "Kurtosis:                       2.898   Cond. No.                         399.\n",
              "==============================================================================\n",
              "\n",
              "Warnings:\n",
              "[1] Standard Errors assume that the covariance matrix of the errors is correctly specified.\n",
              "\"\"\""
            ]
          },
          "metadata": {
            "tags": []
          },
          "execution_count": 37
        }
      ]
    },
    {
      "cell_type": "markdown",
      "metadata": {
        "id": "2Li1HsxKqf1n"
      },
      "source": [
        "The model has an R squared value of 0.807 indicating the model explains our target variable quit well"
      ]
    }
  ]
}