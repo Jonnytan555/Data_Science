{
  "nbformat": 4,
  "nbformat_minor": 0,
  "metadata": {
    "kernelspec": {
      "display_name": "Python 3",
      "language": "python",
      "name": "python3"
    },
    "language_info": {
      "codemirror_mode": {
        "name": "ipython",
        "version": 3
      },
      "file_extension": ".py",
      "mimetype": "text/x-python",
      "name": "python",
      "nbconvert_exporter": "python",
      "pygments_lexer": "ipython3",
      "version": "3.7.6"
    },
    "colab": {
      "name": "expected-goals-player-analysis.ipynb",
      "provenance": [],
      "toc_visible": true
    }
  },
  "cells": [
    {
      "cell_type": "markdown",
      "metadata": {
        "id": "wRLc53xDS2-A"
      },
      "source": [
        "# Expected Goals Model & Player Analysis"
      ]
    },
    {
      "cell_type": "markdown",
      "metadata": {
        "id": "w60vL1YQS2-B"
      },
      "source": [
        "First of all, thanks to Alin Secareanu for this magnificent dataset. It includes events from more than 7,000 games from the top 5 European Leagues from 2011 to 2016. I've been trying to gain insights on football analytics for a while now but couldn't find a proper dataset, until now.\n",
        "\n",
        "This report/notebook is structured as follows:\n",
        "\n",
        "**1. xG Model (Expected Goals Model)**\n",
        "\n",
        "1.a) XGB Classifier\n",
        "\n",
        "1.b) Logistic Regression\n",
        "\n",
        "1.c) Neural Network (MLP)\n",
        "\n",
        "\n",
        "**2. Conclusions about xG Model**\n",
        "\n",
        "2.a) How good is our model?\n",
        "\n",
        "2.b) How could we improve our model?\n",
        "\n",
        "\n",
        "**3. Player Analysis**\n",
        "\n",
        "3.a) Which players are the best finishers?\n",
        "\n",
        "3.b) Which players have the most \"expected goals\"?\n",
        "\n",
        "3.c) Which players are the worst at deciding their shots?\n",
        "\n",
        "3.d) Which players are the best headers?\n",
        "\n",
        "3.e) Which players are the best at shooting with their left foot?\n",
        "\n",
        "3.f) Which players are the best at shooting with their right foot?\n",
        "\n",
        "3.g) Which are the best outside-the-box shooters?\n",
        "\n",
        "3.h) Which players make the best/most dangerous passes?\n",
        "\n",
        "3.i) Which players make the best/most dangerous crosses?\n",
        "\n",
        "3.j) Which players are the most unlucky when passing the ball?"
      ]
    },
    {
      "cell_type": "markdown",
      "metadata": {
        "id": "8b_GA0EeS2-C"
      },
      "source": [
        "We'll start by importing all that we might use later."
      ]
    },
    {
      "cell_type": "code",
      "metadata": {
        "_kg_hide-output": true,
        "id": "HDBwW9QhS2-D"
      },
      "source": [
        "import pandas as pd\n",
        "import numpy as np\n",
        "import matplotlib as plt\n",
        "from matplotlib import pyplot\n",
        "import scipy as sp\n",
        "from xgboost import XGBClassifier\n",
        "import sklearn\n",
        "from sklearn.metrics import average_precision_score\n",
        "from sklearn.metrics import roc_auc_score\n",
        "from sklearn.model_selection import GridSearchCV\n",
        "from sklearn.model_selection import train_test_split\n",
        "from sklearn.metrics import classification_report,confusion_matrix\n",
        "from sklearn.metrics import cohen_kappa_score\n",
        "from sklearn.linear_model import LogisticRegression\n",
        "from sklearn.tree import DecisionTreeClassifier\n",
        "from sklearn.ensemble import RandomForestRegressor\n",
        "from sklearn.ensemble import RandomForestClassifier\n",
        "from sklearn.neural_network import MLPClassifier"
      ],
      "execution_count": null,
      "outputs": []
    },
    {
      "cell_type": "markdown",
      "metadata": {
        "id": "WyQzmL_ZS2-H"
      },
      "source": [
        "Now we'll load the dataset and create a new one named \"shots\" that include only the rows from the original dataset that correspond to shots (event_type==1)."
      ]
    },
    {
      "cell_type": "code",
      "metadata": {
        "id": "x1mw2YhFS2-H",
        "colab": {
          "base_uri": "https://localhost:8080/",
          "height": 409
        },
        "outputId": "5687f7ae-8556-4263-f52c-2b1195c4389a"
      },
      "source": [
        "filename = 'events.csv'\n",
        "events = pd.read_csv('../input/events.csv')\n",
        "shots = events[(events.event_type==1)]\n"
      ],
      "execution_count": null,
      "outputs": [
        {
          "output_type": "error",
          "ename": "FileNotFoundError",
          "evalue": "ignored",
          "traceback": [
            "\u001b[0;31m---------------------------------------------------------------------------\u001b[0m",
            "\u001b[0;31mFileNotFoundError\u001b[0m                         Traceback (most recent call last)",
            "\u001b[0;32m<ipython-input-10-2b7f73040125>\u001b[0m in \u001b[0;36m<module>\u001b[0;34m()\u001b[0m\n\u001b[1;32m      1\u001b[0m \u001b[0mfilename\u001b[0m \u001b[0;34m=\u001b[0m \u001b[0;34m'events.csv'\u001b[0m\u001b[0;34m\u001b[0m\u001b[0;34m\u001b[0m\u001b[0m\n\u001b[0;32m----> 2\u001b[0;31m \u001b[0mevents\u001b[0m \u001b[0;34m=\u001b[0m \u001b[0mpd\u001b[0m\u001b[0;34m.\u001b[0m\u001b[0mread_csv\u001b[0m\u001b[0;34m(\u001b[0m\u001b[0;34m'../input/events.csv'\u001b[0m\u001b[0;34m)\u001b[0m\u001b[0;34m\u001b[0m\u001b[0;34m\u001b[0m\u001b[0m\n\u001b[0m\u001b[1;32m      3\u001b[0m \u001b[0mshots\u001b[0m \u001b[0;34m=\u001b[0m \u001b[0mevents\u001b[0m\u001b[0;34m[\u001b[0m\u001b[0;34m(\u001b[0m\u001b[0mevents\u001b[0m\u001b[0;34m.\u001b[0m\u001b[0mevent_type\u001b[0m\u001b[0;34m==\u001b[0m\u001b[0;36m1\u001b[0m\u001b[0;34m)\u001b[0m\u001b[0;34m]\u001b[0m\u001b[0;34m\u001b[0m\u001b[0;34m\u001b[0m\u001b[0m\n",
            "\u001b[0;32m/usr/local/lib/python3.6/dist-packages/pandas/io/parsers.py\u001b[0m in \u001b[0;36mread_csv\u001b[0;34m(filepath_or_buffer, sep, delimiter, header, names, index_col, usecols, squeeze, prefix, mangle_dupe_cols, dtype, engine, converters, true_values, false_values, skipinitialspace, skiprows, skipfooter, nrows, na_values, keep_default_na, na_filter, verbose, skip_blank_lines, parse_dates, infer_datetime_format, keep_date_col, date_parser, dayfirst, cache_dates, iterator, chunksize, compression, thousands, decimal, lineterminator, quotechar, quoting, doublequote, escapechar, comment, encoding, dialect, error_bad_lines, warn_bad_lines, delim_whitespace, low_memory, memory_map, float_precision)\u001b[0m\n\u001b[1;32m    684\u001b[0m     )\n\u001b[1;32m    685\u001b[0m \u001b[0;34m\u001b[0m\u001b[0m\n\u001b[0;32m--> 686\u001b[0;31m     \u001b[0;32mreturn\u001b[0m \u001b[0m_read\u001b[0m\u001b[0;34m(\u001b[0m\u001b[0mfilepath_or_buffer\u001b[0m\u001b[0;34m,\u001b[0m \u001b[0mkwds\u001b[0m\u001b[0;34m)\u001b[0m\u001b[0;34m\u001b[0m\u001b[0;34m\u001b[0m\u001b[0m\n\u001b[0m\u001b[1;32m    687\u001b[0m \u001b[0;34m\u001b[0m\u001b[0m\n\u001b[1;32m    688\u001b[0m \u001b[0;34m\u001b[0m\u001b[0m\n",
            "\u001b[0;32m/usr/local/lib/python3.6/dist-packages/pandas/io/parsers.py\u001b[0m in \u001b[0;36m_read\u001b[0;34m(filepath_or_buffer, kwds)\u001b[0m\n\u001b[1;32m    450\u001b[0m \u001b[0;34m\u001b[0m\u001b[0m\n\u001b[1;32m    451\u001b[0m     \u001b[0;31m# Create the parser.\u001b[0m\u001b[0;34m\u001b[0m\u001b[0;34m\u001b[0m\u001b[0;34m\u001b[0m\u001b[0m\n\u001b[0;32m--> 452\u001b[0;31m     \u001b[0mparser\u001b[0m \u001b[0;34m=\u001b[0m \u001b[0mTextFileReader\u001b[0m\u001b[0;34m(\u001b[0m\u001b[0mfp_or_buf\u001b[0m\u001b[0;34m,\u001b[0m \u001b[0;34m**\u001b[0m\u001b[0mkwds\u001b[0m\u001b[0;34m)\u001b[0m\u001b[0;34m\u001b[0m\u001b[0;34m\u001b[0m\u001b[0m\n\u001b[0m\u001b[1;32m    453\u001b[0m \u001b[0;34m\u001b[0m\u001b[0m\n\u001b[1;32m    454\u001b[0m     \u001b[0;32mif\u001b[0m \u001b[0mchunksize\u001b[0m \u001b[0;32mor\u001b[0m \u001b[0miterator\u001b[0m\u001b[0;34m:\u001b[0m\u001b[0;34m\u001b[0m\u001b[0;34m\u001b[0m\u001b[0m\n",
            "\u001b[0;32m/usr/local/lib/python3.6/dist-packages/pandas/io/parsers.py\u001b[0m in \u001b[0;36m__init__\u001b[0;34m(self, f, engine, **kwds)\u001b[0m\n\u001b[1;32m    934\u001b[0m             \u001b[0mself\u001b[0m\u001b[0;34m.\u001b[0m\u001b[0moptions\u001b[0m\u001b[0;34m[\u001b[0m\u001b[0;34m\"has_index_names\"\u001b[0m\u001b[0;34m]\u001b[0m \u001b[0;34m=\u001b[0m \u001b[0mkwds\u001b[0m\u001b[0;34m[\u001b[0m\u001b[0;34m\"has_index_names\"\u001b[0m\u001b[0;34m]\u001b[0m\u001b[0;34m\u001b[0m\u001b[0;34m\u001b[0m\u001b[0m\n\u001b[1;32m    935\u001b[0m \u001b[0;34m\u001b[0m\u001b[0m\n\u001b[0;32m--> 936\u001b[0;31m         \u001b[0mself\u001b[0m\u001b[0;34m.\u001b[0m\u001b[0m_make_engine\u001b[0m\u001b[0;34m(\u001b[0m\u001b[0mself\u001b[0m\u001b[0;34m.\u001b[0m\u001b[0mengine\u001b[0m\u001b[0;34m)\u001b[0m\u001b[0;34m\u001b[0m\u001b[0;34m\u001b[0m\u001b[0m\n\u001b[0m\u001b[1;32m    937\u001b[0m \u001b[0;34m\u001b[0m\u001b[0m\n\u001b[1;32m    938\u001b[0m     \u001b[0;32mdef\u001b[0m \u001b[0mclose\u001b[0m\u001b[0;34m(\u001b[0m\u001b[0mself\u001b[0m\u001b[0;34m)\u001b[0m\u001b[0;34m:\u001b[0m\u001b[0;34m\u001b[0m\u001b[0;34m\u001b[0m\u001b[0m\n",
            "\u001b[0;32m/usr/local/lib/python3.6/dist-packages/pandas/io/parsers.py\u001b[0m in \u001b[0;36m_make_engine\u001b[0;34m(self, engine)\u001b[0m\n\u001b[1;32m   1166\u001b[0m     \u001b[0;32mdef\u001b[0m \u001b[0m_make_engine\u001b[0m\u001b[0;34m(\u001b[0m\u001b[0mself\u001b[0m\u001b[0;34m,\u001b[0m \u001b[0mengine\u001b[0m\u001b[0;34m=\u001b[0m\u001b[0;34m\"c\"\u001b[0m\u001b[0;34m)\u001b[0m\u001b[0;34m:\u001b[0m\u001b[0;34m\u001b[0m\u001b[0;34m\u001b[0m\u001b[0m\n\u001b[1;32m   1167\u001b[0m         \u001b[0;32mif\u001b[0m \u001b[0mengine\u001b[0m \u001b[0;34m==\u001b[0m \u001b[0;34m\"c\"\u001b[0m\u001b[0;34m:\u001b[0m\u001b[0;34m\u001b[0m\u001b[0;34m\u001b[0m\u001b[0m\n\u001b[0;32m-> 1168\u001b[0;31m             \u001b[0mself\u001b[0m\u001b[0;34m.\u001b[0m\u001b[0m_engine\u001b[0m \u001b[0;34m=\u001b[0m \u001b[0mCParserWrapper\u001b[0m\u001b[0;34m(\u001b[0m\u001b[0mself\u001b[0m\u001b[0;34m.\u001b[0m\u001b[0mf\u001b[0m\u001b[0;34m,\u001b[0m \u001b[0;34m**\u001b[0m\u001b[0mself\u001b[0m\u001b[0;34m.\u001b[0m\u001b[0moptions\u001b[0m\u001b[0;34m)\u001b[0m\u001b[0;34m\u001b[0m\u001b[0;34m\u001b[0m\u001b[0m\n\u001b[0m\u001b[1;32m   1169\u001b[0m         \u001b[0;32melse\u001b[0m\u001b[0;34m:\u001b[0m\u001b[0;34m\u001b[0m\u001b[0;34m\u001b[0m\u001b[0m\n\u001b[1;32m   1170\u001b[0m             \u001b[0;32mif\u001b[0m \u001b[0mengine\u001b[0m \u001b[0;34m==\u001b[0m \u001b[0;34m\"python\"\u001b[0m\u001b[0;34m:\u001b[0m\u001b[0;34m\u001b[0m\u001b[0;34m\u001b[0m\u001b[0m\n",
            "\u001b[0;32m/usr/local/lib/python3.6/dist-packages/pandas/io/parsers.py\u001b[0m in \u001b[0;36m__init__\u001b[0;34m(self, src, **kwds)\u001b[0m\n\u001b[1;32m   1996\u001b[0m         \u001b[0mkwds\u001b[0m\u001b[0;34m[\u001b[0m\u001b[0;34m\"usecols\"\u001b[0m\u001b[0;34m]\u001b[0m \u001b[0;34m=\u001b[0m \u001b[0mself\u001b[0m\u001b[0;34m.\u001b[0m\u001b[0musecols\u001b[0m\u001b[0;34m\u001b[0m\u001b[0;34m\u001b[0m\u001b[0m\n\u001b[1;32m   1997\u001b[0m \u001b[0;34m\u001b[0m\u001b[0m\n\u001b[0;32m-> 1998\u001b[0;31m         \u001b[0mself\u001b[0m\u001b[0;34m.\u001b[0m\u001b[0m_reader\u001b[0m \u001b[0;34m=\u001b[0m \u001b[0mparsers\u001b[0m\u001b[0;34m.\u001b[0m\u001b[0mTextReader\u001b[0m\u001b[0;34m(\u001b[0m\u001b[0msrc\u001b[0m\u001b[0;34m,\u001b[0m \u001b[0;34m**\u001b[0m\u001b[0mkwds\u001b[0m\u001b[0;34m)\u001b[0m\u001b[0;34m\u001b[0m\u001b[0;34m\u001b[0m\u001b[0m\n\u001b[0m\u001b[1;32m   1999\u001b[0m         \u001b[0mself\u001b[0m\u001b[0;34m.\u001b[0m\u001b[0munnamed_cols\u001b[0m \u001b[0;34m=\u001b[0m \u001b[0mself\u001b[0m\u001b[0;34m.\u001b[0m\u001b[0m_reader\u001b[0m\u001b[0;34m.\u001b[0m\u001b[0munnamed_cols\u001b[0m\u001b[0;34m\u001b[0m\u001b[0;34m\u001b[0m\u001b[0m\n\u001b[1;32m   2000\u001b[0m \u001b[0;34m\u001b[0m\u001b[0m\n",
            "\u001b[0;32mpandas/_libs/parsers.pyx\u001b[0m in \u001b[0;36mpandas._libs.parsers.TextReader.__cinit__\u001b[0;34m()\u001b[0m\n",
            "\u001b[0;32mpandas/_libs/parsers.pyx\u001b[0m in \u001b[0;36mpandas._libs.parsers.TextReader._setup_parser_source\u001b[0;34m()\u001b[0m\n",
            "\u001b[0;31mFileNotFoundError\u001b[0m: [Errno 2] No such file or directory: '../input/events.csv'"
          ]
        }
      ]
    },
    {
      "cell_type": "markdown",
      "metadata": {
        "id": "BQ6IaCFJS2-K"
      },
      "source": [
        "# 1. xG Model"
      ]
    },
    {
      "cell_type": "markdown",
      "metadata": {
        "id": "V2CnOQ_CS2-L"
      },
      "source": [
        "Here we prepare the data for making it suitable as input for our xG Model. First I will talk a bit about what Expected Goals is.\n",
        "\n",
        "Expected Goals Models are an attempt to quantify how likely it is that a certain shot results in a goal. With this metric, we can analyze what happened in a game other than how many goals each team scored. Since the game is won with goals, and goals come only from shots (except for the rare case of an own goal), then the xG metric only needs data from shots to be developed. In other words, anything else that may influence how many \"expected goals\" a team would score has to happen via having more shots in the first place. For example, one could argue that if team B receives 3 red cards, then team A is supposed to score more goals (an increase in expected goals). However, in reality, having 3 more players on the field will result in taking more (and possibly better) shots, and it is taking more shots that will result in an increase in expected goals. Therefore, shots and their information are the only thing we need to take into account!\n",
        "\n",
        "In my opinion, an xG Model should not take into account specific characteristics or skills of the players who intervene in the event. I've read in some other places that xG models should account for this to be more accurate, but I strongly disagree. Yes, I know that if Messi is one-on-one with the goalkeeper the chances of it being a goal are higher than with any other player, or that if Ter Stegen is the goalkeeper in question then the probabilities of it being a goal may go down. But that is not the point of the metric. We are trying to standardize through thousands of datapoints how likely it is that any given player would score from a certain position in a certain situation. If the player is an extraordinary finisher, then he will probably score more goals than expected, and that's fine. If we start taking into account the skills of the players involved, it is my opinion that we would be taking one step too far towards the design of this metric and would become less meaningful.\n",
        "\n",
        "After this (long) introduction, let's get to it. We will prepare X and Y sets. Y will simply include every shot in the database and whether it was a goal or not (1 or 0). It is our target variable. X will include all the relevant information about the shot that we have in our data. That would be:\n",
        "\n",
        ". **location:** attacking half, defensive half, centre of the box, left wing, right wing, difficult angle and long range, difficult angle on the left, difficult angle on the right, left side of the box, left side of the six yard box, right side of the box, right side of the six yard box, very close range, penalty spot, outside the box, long range, more than 35 yards, more than 40 yards, not recorded.\n",
        "\n",
        ". **bodypart:** right foot, left foot, head.\n",
        "\n",
        ". **assist_method:** none, pass, cross, headed pass, through ball.\n",
        "\n",
        ". **situation:** open play, set piece, corner, free kick.\n",
        "\n",
        ". **fast_break:** 1 or 0, whether the shot comes from a fast break or not.\n",
        "\n",
        "So, we have a lot of meaningful information about every shot. The location from which it was taken, which part of the body was used for shooting, how the shoot was made available (after a pass? a cross? etc.), and the situation or context in which the shoot occured (open play, corner, etc.)\n",
        "\n",
        "Since all of these are categorical variables, we have to convert them to binary dummies (except for fast_break, which is already binary)."
      ]
    },
    {
      "cell_type": "code",
      "metadata": {
        "id": "hfFJcCbAS2-L"
      },
      "source": [
        "shots_prediction = shots.iloc[:,-6:]\n",
        "dummies = pd.get_dummies(shots_prediction, columns=['location', 'bodypart','assist_method', 'situation'])\n",
        "dummies.columns = ['is_goal', 'fast_break', 'loc_centre_box', 'loc_diff_angle_lr', 'diff_angle_left', 'diff_angle_right', 'left_side_box', 'left_side_6ybox', 'right_side_box', 'right_side_6ybox', 'close_range', 'penalty', 'outside_box', 'long_range', 'more_35y', 'more_40y', 'not_recorded', 'right_foot', 'left_foot', 'header', 'no_assist', 'assist_pass', 'assist_cross', 'assist_header', 'assist_through_ball', 'open_play', 'set_piece', 'corner', 'free_kick']\n",
        "dummies.head()"
      ],
      "execution_count": null,
      "outputs": []
    },
    {
      "cell_type": "code",
      "metadata": {
        "id": "9nYyK6FXS2-P"
      },
      "source": [
        "X = dummies.iloc[:,1:]\n",
        "y = dummies.iloc[:,0]\n",
        "print(X.shape)\n",
        "print(y.shape)"
      ],
      "execution_count": null,
      "outputs": []
    },
    {
      "cell_type": "markdown",
      "metadata": {
        "id": "Tpun7czbS2-S"
      },
      "source": [
        "So we have a total of 229,135 shots. For each shot, we have 28 different characteristics that describe it. All of these 28 characteristics are binary, so they just indicate Yes or No to a certain characteristics in the shot.\n",
        "\n",
        "Now we will divide our X and y into two different sets for training and testing. I will use 65% of them for training our model and 35% por testing it. This is because we have enough datapoints (in my opinion). So 65% should be enough to train it properly, and I'd rather have as many shots left as possible for pure testing later. "
      ]
    },
    {
      "cell_type": "code",
      "metadata": {
        "id": "Ii2jta2eS2-T"
      },
      "source": [
        "X_train, X_test, y_train, y_test = train_test_split(X, y, test_size=0.35, random_state=1)"
      ],
      "execution_count": null,
      "outputs": []
    },
    {
      "cell_type": "markdown",
      "metadata": {
        "id": "yCC1-2UdS2-W"
      },
      "source": [
        "## 1.a) XGB Classifier\n",
        "\n",
        "We will first train a Gradient Boosting Classifier, that usually achieves good results with little adjusting. I used GridSearchCV in order to find the best parameters (tried with max_depth=[3,5,7,9] and n_estimators=[100,500,1000]). I concluded that max_depth=5 and n_estimators=100 worked the best.\n",
        "\n",
        "So we just call the model, feed it with our X_train and y_train, and make it predict our y_test based on our X_test."
      ]
    },
    {
      "cell_type": "code",
      "metadata": {
        "id": "YddV0jCQS2-X"
      },
      "source": [
        "classifier = XGBClassifier(objective='binary:logistic', max_depth=5, n_estimators=100)\n",
        "classifier.fit(X_train, y_train)"
      ],
      "execution_count": null,
      "outputs": []
    },
    {
      "cell_type": "code",
      "metadata": {
        "id": "f2xo7XOJS2-b"
      },
      "source": [
        "accuracy = classifier.score(X_test, y_test)\n",
        "y_pred = classifier.predict_proba(X_test)\n",
        "predict = classifier.predict(X_test)\n",
        "y_total = y_train.count()\n",
        "y_positive = y_train.sum()\n",
        "auc_roc = roc_auc_score(y_test, y_pred[:, 1])\n",
        "print('The training set contains {} examples (shots) of which {} are positives (goals).'.format(y_total, y_positive))\n",
        "print('The accuracy of classifying whether a shot is goal or not is {:.2f} %'.format(accuracy*100))\n",
        "print('Our classifier obtains an AUC-ROC of {:.4f}.'.format(auc_roc))"
      ],
      "execution_count": null,
      "outputs": []
    },
    {
      "cell_type": "markdown",
      "metadata": {
        "id": "vYny28KWS2-e"
      },
      "source": [
        "So, we can see that our xG model is able to correctly predict whether a shot is goal or not 91% of the time. Furthermore, we obtain a pretty good \"ROC-Area Under the Curve\" metric of 0.82. This looks very promising.\n",
        "\n",
        "However, these two metrics are not the best for evaluating our model because they do not consider that our dataset is imbalanced. There are many more shots that do not end up being a goal than shots that do. So, for example, if we would simply predict that the shot will not be a goal each and every single time, we would already obtain a pretty high accuracy of 89%.\n",
        "\n",
        "So, we need other metrics to really understand if our model is any good.\n",
        "\n",
        "We will try with the AUC (Under the Curve) of Precision-Recall, and with Cohen's Kappa statistics. Both of these are appropiate for our case, since they do take into account the imbalance of our data.\n",
        "\n"
      ]
    },
    {
      "cell_type": "code",
      "metadata": {
        "id": "T63Z4mGZS2-f"
      },
      "source": [
        "auc_pr_baseline = y_positive / y_total\n",
        "print('The baseline performance for AUC-PR is {:.2f}. This is the AUC-PR that what we would get by random guessing.'.format(auc_pr_baseline))\n",
        "\n",
        "auc_pr = average_precision_score(y_test, y_pred[:, 1])\n",
        "print('Our classifier obtains an AUC-PR of {:.4f}.'.format(auc_pr))\n",
        "cohen_kappa = cohen_kappa_score(y_test,predict)\n",
        "print('Our classifier obtains a Cohen Kappa of {:.4f}.'.format(cohen_kappa))"
      ],
      "execution_count": null,
      "outputs": []
    },
    {
      "cell_type": "markdown",
      "metadata": {
        "id": "P18Jsku2S2-h"
      },
      "source": [
        "We end the evaluation of the model with a confusion matrix and an additional stats report. \n"
      ]
    },
    {
      "cell_type": "code",
      "metadata": {
        "id": "hy-ksTYnS2-i"
      },
      "source": [
        "print('Confusion Matrix:')\n",
        "print(confusion_matrix(y_test,predict))\n",
        "print('Report:')\n",
        "print(classification_report(y_test,predict))"
      ],
      "execution_count": null,
      "outputs": []
    },
    {
      "cell_type": "markdown",
      "metadata": {
        "id": "ZeIUjxTES2-l"
      },
      "source": [
        "The confusion matrix summarizes all predictions. It tells us that, from all the shots that were not goal, our model correctly identified 70,820 as no-goals, and made a mistake in 6,265 cases in which it predicted that the shot would not be a goal, but it was. From the other column, we see that it correctly predicted 874 goals, but failed to predict 2239 succesful shots as goals.\n",
        "\n",
        "From the report we can see the model has excellent numbers when it comes to predict class 0 (no-goal), but not that good for predicting class 1 (goals). With the latter, we have a precision of 0.72, and a recall of 0.26, resulting in an F1 of 0.39. These are decent numbers, but not really good.\n",
        "\n",
        "Does this make sense? Of course it does. Predicting whether a shot will be goal is extremely more difficult than predicting it will not be a goal (well, predicting itself is not really hard, but predicting it and also being correct is). This is specially true if you have no idea who the player shooting the ball is or who the goalkeeper is, which is the situation in which the algorithm is in. It would be interesting to make a human vs. machine study on this. Are human experts much better in judging whether any given shot will become a goal than a model such as this one is?\n",
        "\n",
        "Finally we'll make a table containing the information of whether shots were goal or not (0 or 1), the probability that the model assigned to that shot being a goal (from 0 to 1), and the difference between the two. This is just to take a look and visualize how our model has performed."
      ]
    },
    {
      "cell_type": "code",
      "metadata": {
        "id": "A50pwd45S2-l"
      },
      "source": [
        "predictions = X_test.copy()\n",
        "predictions['true_goals'] = y_test\n",
        "predictions['expected_goals'] = y_pred[:,1]\n",
        "predictions['difference'] = predictions['expected_goals'] - predictions['true_goals']\n",
        "predictions = predictions.iloc[:,28:31]\n",
        "predictions.head()"
      ],
      "execution_count": null,
      "outputs": []
    },
    {
      "cell_type": "markdown",
      "metadata": {
        "id": "6xPpwuneS2-o"
      },
      "source": [
        "## 1.b) Logistic Regression"
      ]
    },
    {
      "cell_type": "code",
      "metadata": {
        "id": "Klc1fCgyS2-o"
      },
      "source": [
        "logistic_regression = LogisticRegression()\n",
        "logistic_regression.fit(X_train, y_train)"
      ],
      "execution_count": null,
      "outputs": []
    },
    {
      "cell_type": "code",
      "metadata": {
        "id": "z0gl2Z-MS2-r"
      },
      "source": [
        "logistic_regression.score(X_train, y_train)\n",
        "accuracy = logistic_regression.score(X_test, y_test)\n",
        "y_pred = logistic_regression.predict_proba(X_test)\n",
        "accuracy_logreg = logistic_regression.score(X_test, y_test)\n",
        "y_pred_logreg = logistic_regression.predict_proba(X_test)\n",
        "predict_logreg = logistic_regression.predict(X_test)\n",
        "y_total_logreg = y_train.count()\n",
        "y_positive_logreg = y_train.sum()\n",
        "auc_roc_logreg = roc_auc_score(y_test, y_pred_logreg[:, 1])\n",
        "print('The training set contains {} examples (shots) of which {} are positives (goals).'.format(y_total_logreg, y_positive_logreg))\n",
        "print('The accuracy of classifying whether a shot is goal or not is {:.2f} %'.format(accuracy_logreg*100))\n",
        "print('Our classifier obtains an AUC-ROC of {:.4f}.'.format(auc_roc_logreg))\n",
        "\n",
        "auc_pr_baseline = y_positive / y_total\n",
        "print('The baseline performance for AUC-PR is {:.4f}. This is the AUC-PR that what we would get by random guessing.'.format(auc_pr_baseline))\n",
        "auc_pr_logreg = average_precision_score(y_test, y_pred_logreg[:, 1])\n",
        "print('Our classifier obtains an AUC-PR of {:.4f}.'.format(auc_pr_logreg))\n",
        "cohen_kappa_logreg = cohen_kappa_score(y_test,predict_logreg)\n",
        "print('Our classifier obtains a Cohen Kappa of {:.4f}.'.format(cohen_kappa_logreg))"
      ],
      "execution_count": null,
      "outputs": []
    },
    {
      "cell_type": "code",
      "metadata": {
        "id": "-auageihS2-u"
      },
      "source": [
        "print('Confusion Matrix:')\n",
        "print(confusion_matrix(y_test,predict_logreg))\n",
        "print('Report:')\n",
        "print(classification_report(y_test,predict_logreg))"
      ],
      "execution_count": null,
      "outputs": []
    },
    {
      "cell_type": "markdown",
      "metadata": {
        "id": "FP4ITHjNS2-x"
      },
      "source": [
        "So, we pretty much get the same as with our XGBClassifier. No difference whatsoever between how the two models perform. \n",
        "\n",
        "In order to get something useful out of this, I will print the coefficients of the Logistic Regression, as they have interesting information. They show us how the model makes a prediction.\n",
        "\n",
        "Below we have a list with every feature and its coefficient. Some insights that we can learn from this are that shoots that come from fast breaks are much more likely to be goals (very positive coefficient), shots that come from a through-ball pass are much more likely to be goals than those that come from any other kind of pass or cross (the coefficient for \"through_ball\" is positive while the other are negative), and so on."
      ]
    },
    {
      "cell_type": "code",
      "metadata": {
        "id": "er3XFlWCS2-y"
      },
      "source": [
        "coefficients = pd.Series(logistic_regression.coef_[0], X_train.columns)\n",
        "print(coefficients)"
      ],
      "execution_count": null,
      "outputs": []
    },
    {
      "cell_type": "markdown",
      "metadata": {
        "id": "28s_Oi9OS2-0"
      },
      "source": [
        "One thing to worry about is the high coefficient of the location='not_recorded'. Apparently there are shots for which the location has not been recorded, and for some reason those shots are incredibly likely to be goals, which makes things easier for the model. Maybe to better understand the model it could be interesting to remove those rows and check its performance. I have tried it and it results in a slight decrease in its performance (AUC-ROC=0.806, AUC-PR = 0.41). I will leave these rows anyway, as I will do players analysis later and I don't want valuable information about the goals of the players being erased."
      ]
    },
    {
      "cell_type": "markdown",
      "metadata": {
        "id": "bcKBAUd-S2-2"
      },
      "source": [
        "## 1.c) Neural Network (MLP)"
      ]
    },
    {
      "cell_type": "markdown",
      "metadata": {
        "id": "LprKkS7kS2-3"
      },
      "source": [
        "I decided to try also a Neural Network to see if I can improve the performance of our xG model.\n",
        "As is usually the case with Neural Networks, it's difficult to understand what's really going on inside the model. I tried several different configurations of hyperparameters and concluded that the best was with ReLu as activation function and 4 layers of 28 neurons each (the same number as the number of features in our data). So this is the configuration I'll use."
      ]
    },
    {
      "cell_type": "code",
      "metadata": {
        "id": "4Mp0ubCwS2-3"
      },
      "source": [
        "mlp = MLPClassifier(random_state=0, hidden_layer_sizes=(28,28,28,28), max_iter=2000, activation='relu')\n",
        "mlp.fit(X_train, y_train)"
      ],
      "execution_count": null,
      "outputs": []
    },
    {
      "cell_type": "code",
      "metadata": {
        "id": "FzxKTMcTS2-7"
      },
      "source": [
        "mlp.score(X_train, y_train)\n",
        "mlp.score(X_test, y_test)\n",
        "accuracy = mlp.score(X_test, y_test)\n",
        "print('The accuracy of classifying whether a shot is goal or not is {:.2f} %.'.format(accuracy*100))\n",
        "y_pred = mlp.predict_proba(X_test)\n",
        "predict = mlp.predict(X_test)\n",
        "y_total = y_train.count()\n",
        "y_positive = y_train.sum()\n",
        "print('The training set contains {} examples of which {} are positives.'.format(y_total, y_positive))\n",
        "auc_roc = roc_auc_score(y_test, y_pred[:,1])\n",
        "print('Our MLP classifier obtains an AUC-ROC of {:.4f}.'.format(auc_roc))\n",
        "auc_pr_baseline = y_positive / y_total\n",
        "print('The baseline performance for AUC-PR is {:.4f}. This is what we would get by random guessing'.format(auc_pr_baseline))\n",
        "auc_pr = average_precision_score(y_test, y_pred[:,1])\n",
        "print('Our MLP classifier obtains an AUC-PR of {:.4f}.'.format(auc_pr))\n",
        "cohen_kappa = cohen_kappa_score(y_test,predict)\n",
        "print('Our classifier obtains a Cohen Kappa of {:.4f}.'.format(cohen_kappa))\n",
        "MSE = sklearn.metrics.mean_squared_error(y_test, y_pred[:,1])\n",
        "print('Our MLP classifier obtains a Mean Squared Error (MSE) of {:.4f}.'.format(MSE))"
      ],
      "execution_count": null,
      "outputs": []
    },
    {
      "cell_type": "code",
      "metadata": {
        "id": "ne9rV7W2S2--"
      },
      "source": [
        "print('Confusion Matrix:')\n",
        "print(confusion_matrix(y_test,predict))\n",
        "print('Report:')\n",
        "print(classification_report(y_test,predict))"
      ],
      "execution_count": null,
      "outputs": []
    },
    {
      "cell_type": "markdown",
      "metadata": {
        "id": "n8bIbJNkS2_A"
      },
      "source": [
        "Again, very similar numbers! There is a slight increase in Cohen's Kappa and in our Recall, so we will use the predictions of our MLP model for determining the final xG of each of the shots in the dataset."
      ]
    },
    {
      "cell_type": "code",
      "metadata": {
        "id": "5S2V33SeS2_B"
      },
      "source": [
        "predictions = X_test.copy()\n",
        "predictions['true_goals'] = y_test\n",
        "predictions['expected_goals'] = y_pred[:,1]\n",
        "predictions['difference'] = predictions['expected_goals'] - predictions['true_goals']\n",
        "predictions = predictions.iloc[:,28:31]"
      ],
      "execution_count": null,
      "outputs": []
    },
    {
      "cell_type": "markdown",
      "metadata": {
        "id": "fYI5Hn4eS2_E"
      },
      "source": [
        "# 2. Conclusions about xG Model\n",
        "\n",
        "## 2.a) How good is our model?"
      ]
    },
    {
      "cell_type": "markdown",
      "metadata": {
        "id": "VVHzJkh3S2_E"
      },
      "source": [
        "It is hard to determine whether the model is good, as there is not much to compare with. I think that Cohen's Kappa and AUC PR are very good indicators to measure the performance of our model, but it's not easy to find these numbers for other different xG models in order to compare. Many report the aggregated R2 by season, but in my opinion that does not make a lot of sense. In Section #3 we will see that our model results in a correlation of 0.97 between the total expected goals and the actual goals by player, suggesting that the model may be sufficiently good, but this measure is also not ideal.\n",
        "\n",
        "While searching for other xG models and how well they've done, to be able to compare how good this is, I found the following regarding AUC-ROC in other models (see [here](http://business-analytic.co.uk/blog/assessing-expected-goals-models-part-2-anatomy-of-a-big-chance/)):\n",
        "\n",
        ". Standard Model: AUC-ROC = 79.8%\n",
        ". Big Chance Model: AUC-ROC = 75.1%\n",
        ". Standard+Big Chance: AUC-ROC = 82%\n",
        ". Standard+Defensive = AUC-ROC = 81.4%\n",
        "\n",
        "So, finally we can compare our model with some others, at least on this statistic, which as I have mentioned before I don't think it's the best one to determine how well our model performs.\n",
        "\n",
        "Our model has an AUC-ROC of 81.9%, suggesting it is pretty decent.\n"
      ]
    },
    {
      "cell_type": "markdown",
      "metadata": {
        "id": "tJ51YNbqS2_F"
      },
      "source": [
        "## 2.b) How could we improve our xG model?"
      ]
    },
    {
      "cell_type": "markdown",
      "metadata": {
        "id": "CKh3UnrkS2_F"
      },
      "source": [
        "I've tried different algorithms with different hyperparameters and the results did not change much.\n",
        "\n",
        "But, what additional data could we add to improve our model? First, it would be great to have information about the defending team. How many defenders are between the goal and the player with the ball? How much defensive pressure is the shooting player withstanding? How quick is the whole play? How much time does the player have in order to shoot?\n",
        "I imagine the (quantified) answers to many of these questions would give the model interesting new information to base its predictions on.\n",
        "\n",
        "Additionally, we have the \"location\" of the shot divided in 17 different categories. Even though it's pretty decent, it could be better to have exact x and y coordinates of where the player is. This could lead to more precision in the location of each shot, and therefore in the predictions of the model."
      ]
    },
    {
      "cell_type": "markdown",
      "metadata": {
        "id": "hSnWcAVvS2_G"
      },
      "source": [
        "# 3. Player Analysis"
      ]
    },
    {
      "cell_type": "markdown",
      "metadata": {
        "id": "bSeqtZfGS2_G"
      },
      "source": [
        "We'll start by adding the information we have about expected goals to each shot in our original data. From there, we can extract many interesting metrics about players, all of these metrics being related in one way or another to the new xG predictions for each shot."
      ]
    },
    {
      "cell_type": "code",
      "metadata": {
        "id": "iVFgGgVmS2_G"
      },
      "source": [
        "ypred2 = mlp.predict_proba(X_train)\n",
        "predictions_train = X_train.copy()\n",
        "predictions_train['true_goals'] = y_train\n",
        "predictions_train['expected_goals'] = ypred2[:,1]\n",
        "predictions_train['difference'] = predictions_train['expected_goals'] - predictions_train['true_goals']\n",
        "predictions_train = predictions_train.iloc[:,28:31]\n",
        "all_predictions = pd.concat([predictions, predictions_train], axis=0)\n",
        "events2 = pd.concat([events, all_predictions], axis=1)\n",
        "shots2 = events2[events2.event_type==1]"
      ],
      "execution_count": null,
      "outputs": []
    },
    {
      "cell_type": "markdown",
      "metadata": {
        "id": "5lwyKEKpS2_I"
      },
      "source": [
        "## 3.a) Which players are the best finishers?"
      ]
    },
    {
      "cell_type": "markdown",
      "metadata": {
        "id": "Sc0wyH4pS2_J"
      },
      "source": [
        "By looking at the difference between a player's number of goals and his number of expected goals, we can see who are the best at finishing plays."
      ]
    },
    {
      "cell_type": "code",
      "metadata": {
        "id": "hKENnubuS2_K"
      },
      "source": [
        "xG_players = shots2[['player', 'event_type', 'true_goals', 'expected_goals', 'difference']].groupby('player').sum()\n",
        "xG_players.columns = ['n_shots', 'goals_scored', 'expected_goals', 'difference']\n",
        "xG_players[['goals_scored', 'expected_goals']].corr()\n"
      ],
      "execution_count": null,
      "outputs": []
    },
    {
      "cell_type": "markdown",
      "metadata": {
        "id": "rNgT-znAS2_N"
      },
      "source": [
        "As mentioned above, we see that the correlation between goals_scored and expected_goals is very high, which speaks well about our xG model."
      ]
    },
    {
      "cell_type": "code",
      "metadata": {
        "id": "mUq3On5OS2_O"
      },
      "source": [
        "xG_players.sort_values(['difference', 'goals_scored'])"
      ],
      "execution_count": null,
      "outputs": []
    },
    {
      "cell_type": "markdown",
      "metadata": {
        "id": "io852V1SS2_Q"
      },
      "source": [
        "Not surprisingly, we can see that Messi is by far the best in this metric. According to the number and characteristics of all shoots he's taken, he was expected to score 148 goals, but instead he has scored 205. As expected, what we find among the top of the list are all world-class famous players.\n",
        "\n",
        "On the other end, we find Jesus Navas, Mario Balotelli, or Adrian Mutu, among others, who have scored much less goals that what they should have. Looking at players with much fewer goals than expected goals is interesting. It kind of tells us that these players have missed too many chances and should improve their shooting, true. But it also means that they have been there creating much more chances than what the most widespread stats (like \"goals) tell us. So, in that sense, they are underrated."
      ]
    },
    {
      "cell_type": "markdown",
      "metadata": {
        "id": "nMjrqS0US2_R"
      },
      "source": [
        "## 3.b) Which players have the most \"expected goals\"?"
      ]
    },
    {
      "cell_type": "markdown",
      "metadata": {
        "id": "MXl8h2PZS2_R"
      },
      "source": [
        "For this we simply order our table by \"expected_goals\". It tell us which players should have scored the highest number of goals according to all the chances that they've had, as predicted by our model."
      ]
    },
    {
      "cell_type": "code",
      "metadata": {
        "id": "kaIy4vM7S2_R"
      },
      "source": [
        "xG_players.sort_values(['expected_goals'], ascending=False)"
      ],
      "execution_count": null,
      "outputs": []
    },
    {
      "cell_type": "markdown",
      "metadata": {
        "id": "siYQGiuOS2_T"
      },
      "source": [
        "## 3.c) Which players are the worst at deciding their shots?"
      ]
    },
    {
      "cell_type": "markdown",
      "metadata": {
        "id": "OmoXdCBXS2_U"
      },
      "source": [
        "By calculating a \"xG / #shots\" ratio, we can determine which players make the worst shooting decisions. That is, that they consistently tend to take shots that are not likely to end up in goals. We will only include players who have taken a minimum of 100 shots, as otherwise the results would be filled with players who attempted only 1 or 2 (very bad) shots in the entire 5-year period."
      ]
    },
    {
      "cell_type": "code",
      "metadata": {
        "id": "u7G5al_8S2_U"
      },
      "source": [
        "xG_players['xG_per_shot_ratio'] = xG_players['expected_goals'] / xG_players['n_shots']\n",
        "xG_players[xG_players.n_shots>100].sort_values(['xG_per_shot_ratio', 'goals_scored'])"
      ],
      "execution_count": null,
      "outputs": []
    },
    {
      "cell_type": "markdown",
      "metadata": {
        "id": "bp35an21S2_W"
      },
      "source": [
        "We can see that Tom Huddlestone appears to be the worst at deciding when to shoot, with an xG per shot of 0.035.\n",
        "\n",
        "The cases of Gohhan Inler and Ruben Rochina are really interesting. They seem to take a lot of very unlikely shots, from long distance, but it also seems that they are actually good at it. Look at the difference between their actual goals and their expected goals: despite taking \"bad\" shots, they have scored more than they were expected to. So, in their case, making these kinds of shots might not be such a bad decision after all.\n",
        "\n",
        "On the other hand, we have cases like Ivan Radovanovic. He also has taken a lot of shots from unlikely locations, and he does not seem to be good at it, since he only has 2 goals when his expected goals are 7.5. These shots may also come in situations after corners, in which players sometimes shoot from far away in any direction without any hope of making a goal, but instead for the ball to go out and reorganize the defense. So maybe these bad shots did make sense in a way and we should not be so cruel about it.\n",
        "\n",
        "At the bottom at the list we find the players who tend to take shots that are likely to be goals, from inside the box or very close range. As expected, here we find mostly strikers and target-men, who tend to play near the opposition's goal.\n",
        "Diego Milito, Kevin Gameiro, and Carlos Bacca are among these players."
      ]
    },
    {
      "cell_type": "markdown",
      "metadata": {
        "id": "1vfn8oOPS2_X"
      },
      "source": [
        "## 3.d) Which players are the best headers?"
      ]
    },
    {
      "cell_type": "code",
      "metadata": {
        "id": "q3sIpB4DS2_Y"
      },
      "source": [
        "headers = events2[(events2.event_type==1) & (events2.bodypart==3)]\n",
        "headers_players = headers[['player', 'event_type', 'true_goals', 'expected_goals', 'difference']].groupby('player').sum()\n",
        "headers_players.columns = ['n_headers', 'goals_scored', 'expected_goals', 'difference']\n",
        "headers_players.sort_values(['difference'])\n"
      ],
      "execution_count": null,
      "outputs": []
    },
    {
      "cell_type": "markdown",
      "metadata": {
        "id": "LPSIzKOLS2_a"
      },
      "source": [
        "We see that Cristiano Ronaldo is the best header in the game, when comparing the number of goals he scored with his head with the number of goals he should have scored with our model.\n",
        "The other two in the top 3 are Mario Mandzukic and Fernando Llorente.\n",
        "\n",
        "This is interesting because we can easily see how it confirms something we kind of know. These three guys are exceptional at heading the ball."
      ]
    },
    {
      "cell_type": "markdown",
      "metadata": {
        "id": "jT21kjLeS2_a"
      },
      "source": [
        "## 3.e) Which players are the best at shooting with their left foot?"
      ]
    },
    {
      "cell_type": "code",
      "metadata": {
        "id": "X_ytUG9dS2_b"
      },
      "source": [
        "left_foot = events2[(events2.event_type==1) & (events2.bodypart==2)]\n",
        "left_foot_players = left_foot[['player', 'event_type', 'true_goals', 'expected_goals', 'difference']].groupby('player').sum()\n",
        "left_foot_players.columns = ['n_left_foot_shots', 'goals_scored', 'expected_goals', 'difference']\n",
        "left_foot_players.sort_values(['difference'])\n"
      ],
      "execution_count": null,
      "outputs": []
    },
    {
      "cell_type": "markdown",
      "metadata": {
        "id": "w8xZLYf2S2_d"
      },
      "source": [
        "Guess who? Of course Messi is first on the list. He is the one who scored the most with his left foot when compared to what was expected according to the characteristics surrounding the shot. The list is complete with Antoine Griezmann, Iago Falque, and Arjen Robben. Not surprisingly, the top players are all left-footed.\n",
        "\n",
        "I'm a bit surprised by not seeing Cristiano Ronaldo here, as I remember him scoring many times with his left foot. So I'll look him up individually."
      ]
    },
    {
      "cell_type": "code",
      "metadata": {
        "id": "fVN0dW4WS2_e"
      },
      "source": [
        ""
      ],
      "execution_count": null,
      "outputs": []
    },
    {
      "cell_type": "code",
      "metadata": {
        "id": "K2u9VbN8S2_g"
      },
      "source": [
        "left_foot_players.loc['cristiano ronaldo']"
      ],
      "execution_count": null,
      "outputs": []
    },
    {
      "cell_type": "markdown",
      "metadata": {
        "id": "xupj9-ArS2_i"
      },
      "source": [
        "He still has more left-footed goals than what was expected by our model, so we can confirm that he is very decent at shooting with his left. But he is not among the best either, as we saw from the previous list."
      ]
    },
    {
      "cell_type": "markdown",
      "metadata": {
        "id": "Wzn0N45ES2_i"
      },
      "source": [
        "## 3.f) Which players are the best at shooting with their right foot?"
      ]
    },
    {
      "cell_type": "code",
      "metadata": {
        "id": "9ZcPvTDFS2_j"
      },
      "source": [
        "right_foot = events2[(events2.event_type==1) & (events2.bodypart==1)]\n",
        "right_foot_players = right_foot[['player', 'event_type', 'true_goals', 'expected_goals', 'difference']].groupby('player').sum()\n",
        "right_foot_players.columns = ['n_right_foot_shots', 'goals_scored', 'expected_goals', 'difference']\n",
        "right_foot_players.sort_values(['difference'])"
      ],
      "execution_count": null,
      "outputs": []
    },
    {
      "cell_type": "markdown",
      "metadata": {
        "id": "606WDveLS2_l"
      },
      "source": [
        "We see Luis Suarez at the top of the list. Messi is in the 11th position besides right foot being his weak foot and the model not accounting for that, which is pretty amazing (the model doesn't know whether a player is right or left footed, it just knows which foot was used for shooting)."
      ]
    },
    {
      "cell_type": "markdown",
      "metadata": {
        "id": "ahUDOWyFS2_l"
      },
      "source": [
        "## 3.g) Which are the best outside-the-box shooters?"
      ]
    },
    {
      "cell_type": "code",
      "metadata": {
        "id": "XcKFVZPaS2_m"
      },
      "source": [
        "outside_box = shots2[(shots2.location==15)]\n",
        "outbox_players = outside_box[['player', 'event_type', 'true_goals', 'expected_goals', 'difference']].groupby('player').sum()\n",
        "outbox_players.columns = ['n_outside_box_shots', 'goals_scored', 'expected_goals', 'difference']\n",
        "outbox_players.sort_values(['difference'])\n"
      ],
      "execution_count": null,
      "outputs": []
    },
    {
      "cell_type": "markdown",
      "metadata": {
        "id": "SViw2RLcS2_o"
      },
      "source": [
        "We see Messi, Pogba, and Higuain as the best when it comes to shooting from outside the box. In the other end, we find players like Mario Balotelli and Alessandro Diamanti. I'm surprised to see Nainggolan here, as I recall him as an excellent shooter from long range, scoring many goals. But maybe that's just because he actually tried 280 shots, and I only remember the ones that were goals. For these cases, better rely on the numbers."
      ]
    },
    {
      "cell_type": "markdown",
      "metadata": {
        "id": "5aCOOAlIS2_p"
      },
      "source": [
        "## 3.h) Which players make the best/most dangerous passes?"
      ]
    },
    {
      "cell_type": "markdown",
      "metadata": {
        "id": "l8ShEfzsS2_p"
      },
      "source": [
        "#### By looking at the player who made the pass/through-ball that came prior to the shot, we can evaluate how much xG a player created from his passing."
      ]
    },
    {
      "cell_type": "code",
      "metadata": {
        "id": "WRTbBHhjS2_q"
      },
      "source": [
        "passes_and_throughballs = pd.concat([shots2[shots2.assist_method==1], shots2[shots2.assist_method==4]])\n",
        "assisting_players = passes_and_throughballs[['player2', 'event_type', 'true_goals', 'expected_goals', 'difference']].groupby('player2').sum()\n",
        "assisting_players['xGoals_per_pass'] = assisting_players['expected_goals'] / assisting_players['event_type']\n",
        "assisting_players.columns = ['n_passes', 'goals_scored_from_passes', 'xGoals_from_passes', 'difference', 'xGoals_per_pass']\n",
        "\n",
        "assisting_players[assisting_players.n_passes > 100].sort_values(['xGoals_per_pass'], ascending=False)\n",
        "\n"
      ],
      "execution_count": null,
      "outputs": []
    },
    {
      "cell_type": "markdown",
      "metadata": {
        "collapsed": true,
        "id": "wnOPNJqKS2_t"
      },
      "source": [
        "We can see Luis Suarez, Di Maria, or Gareth Bale among the players who make the most dangerous passes, as measured by the \"expected goals\" metric of the subsequent shot."
      ]
    },
    {
      "cell_type": "markdown",
      "metadata": {
        "id": "8susEhHES2_t"
      },
      "source": [
        "## 3.i) Which players make the best/most dangerous crosses?"
      ]
    },
    {
      "cell_type": "code",
      "metadata": {
        "id": "QMtI2uFLS2_u"
      },
      "source": [
        "crosses = shots2[shots2.assist_method==2]\n",
        "crosses_players = shots2[['player2', 'event_type', 'true_goals', 'expected_goals', 'difference']].groupby('player2').sum()\n",
        "crosses_players.columns = ['n_crosses', 'goals_scored_from_crosses', 'xGoals_from_crosses', 'difference']\n",
        "crosses_players['xGoals_per_cross'] = crosses_players['xGoals_from_crosses'] / crosses_players['n_crosses']\n",
        "crosses_players.columns = ['n_crosses', 'goals_scored_from_crosses', 'xGoals_from_crosses', 'difference', 'xGoals_per_cross']\n",
        "crosses_players[crosses_players.n_crosses > 50].sort_values(['xGoals_per_cross'], ascending=False)\n",
        "\n"
      ],
      "execution_count": null,
      "outputs": []
    },
    {
      "cell_type": "markdown",
      "metadata": {
        "id": "o7svgUVtS2_w"
      },
      "source": [
        "Surprisingly, we see Luis Suarez as the player who tends to make the most dangerous crosses."
      ]
    },
    {
      "cell_type": "markdown",
      "metadata": {
        "id": "3VOAmfyuS2_x"
      },
      "source": [
        "## 3.j) Which players are the most unlucky when passing the ball?"
      ]
    },
    {
      "cell_type": "markdown",
      "metadata": {
        "id": "ubuuGurfS2_x"
      },
      "source": [
        "We can also see who the most 'unlucky' players are when it comes to passing. Those who have the largest difference between the number of goals that was expected to result from their passes, and the number of goals that actually came from them. I say unlucky because, unlike the player who makes the shot, this other player has no responsibility in whether his team-mates were able to score after his great pass or not!\n",
        "\n",
        "The first table is sorted by the most unlucky when it comes to passes and through balls, while the second table refers to crosses."
      ]
    },
    {
      "cell_type": "code",
      "metadata": {
        "id": "0_gd34YIS2_y"
      },
      "source": [
        "print('Passes and Through-Balls:')\n",
        "assisting_players.sort_values(['difference'], ascending=False)"
      ],
      "execution_count": null,
      "outputs": []
    },
    {
      "cell_type": "code",
      "metadata": {
        "id": "-qGHlvxwS2_3"
      },
      "source": [
        "print('Crosses:')\n",
        "crosses_players.sort_values(['difference'], ascending=False)"
      ],
      "execution_count": null,
      "outputs": []
    },
    {
      "cell_type": "markdown",
      "metadata": {
        "id": "910dxdsdS2_6"
      },
      "source": [
        "We can see that the bottom of the lists is filled with players from the strongest teams. This makes sense, as their teammates are good and so they are expected to score the chances that are created to them.\n",
        "\n",
        "At the top of the list we also see some famous 'unlucky' players though, such as Philippe Coutinho and Eden Hazard, who should have seen higher numbers in their \"Assists\" stats according to the chances they created for the team. This does not speak highly of their team-mates at Liverpool or Chelsea from 2011 to 2016."
      ]
    }
  ]
}